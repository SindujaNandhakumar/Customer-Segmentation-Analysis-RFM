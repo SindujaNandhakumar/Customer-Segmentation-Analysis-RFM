{
 "cells": [
  {
   "cell_type": "markdown",
   "id": "24dfdf42",
   "metadata": {},
   "source": [
    "**Data Cleaning New Customer List**"
   ]
  },
  {
   "cell_type": "code",
   "execution_count": 1,
   "id": "167f55d6",
   "metadata": {},
   "outputs": [],
   "source": [
    "import pandas as pd\n",
    "import numpy as np\n",
    "import matplotlib.pyplot as plt\n",
    "import seaborn as sns\n",
    "%matplotlib inline\n",
    "\n",
    "from datetime import datetime, date\n",
    "plt.style.use('ggplot')\n",
    "\n",
    "import warnings\n",
    "warnings.filterwarnings('ignore')"
   ]
  },
  {
   "cell_type": "code",
   "execution_count": 5,
   "id": "9b385387",
   "metadata": {},
   "outputs": [],
   "source": [
    "# Loading customer demographic data  sheet from raw excel file\n",
    "new_cust = pd.read_excel('Raw_data.xlsx',sheet_name=\"NewCustomerList\")\n"
   ]
  },
  {
   "cell_type": "code",
   "execution_count": 6,
   "id": "b06b4e32",
   "metadata": {},
   "outputs": [
    {
     "data": {
      "text/html": [
       "<div>\n",
       "<style scoped>\n",
       "    .dataframe tbody tr th:only-of-type {\n",
       "        vertical-align: middle;\n",
       "    }\n",
       "\n",
       "    .dataframe tbody tr th {\n",
       "        vertical-align: top;\n",
       "    }\n",
       "\n",
       "    .dataframe thead th {\n",
       "        text-align: right;\n",
       "    }\n",
       "</style>\n",
       "<table border=\"1\" class=\"dataframe\">\n",
       "  <thead>\n",
       "    <tr style=\"text-align: right;\">\n",
       "      <th></th>\n",
       "      <th>first_name</th>\n",
       "      <th>last_name</th>\n",
       "      <th>gender</th>\n",
       "      <th>past_3_years_bike_related_purchases</th>\n",
       "      <th>DOB</th>\n",
       "      <th>job_title</th>\n",
       "      <th>job_industry_category</th>\n",
       "      <th>wealth_segment</th>\n",
       "      <th>deceased_indicator</th>\n",
       "      <th>owns_car</th>\n",
       "      <th>...</th>\n",
       "      <th>state</th>\n",
       "      <th>country</th>\n",
       "      <th>property_valuation</th>\n",
       "      <th>Unnamed: 16</th>\n",
       "      <th>Unnamed: 17</th>\n",
       "      <th>Unnamed: 18</th>\n",
       "      <th>Unnamed: 19</th>\n",
       "      <th>Unnamed: 20</th>\n",
       "      <th>Rank</th>\n",
       "      <th>Value</th>\n",
       "    </tr>\n",
       "  </thead>\n",
       "  <tbody>\n",
       "    <tr>\n",
       "      <th>0</th>\n",
       "      <td>Chickie</td>\n",
       "      <td>Brister</td>\n",
       "      <td>Male</td>\n",
       "      <td>86</td>\n",
       "      <td>1957-07-12</td>\n",
       "      <td>General Manager</td>\n",
       "      <td>Manufacturing</td>\n",
       "      <td>Mass Customer</td>\n",
       "      <td>N</td>\n",
       "      <td>Yes</td>\n",
       "      <td>...</td>\n",
       "      <td>QLD</td>\n",
       "      <td>Australia</td>\n",
       "      <td>6</td>\n",
       "      <td>0.54</td>\n",
       "      <td>0.6750</td>\n",
       "      <td>0.84375</td>\n",
       "      <td>0.717187</td>\n",
       "      <td>1</td>\n",
       "      <td>1</td>\n",
       "      <td>1.718750</td>\n",
       "    </tr>\n",
       "    <tr>\n",
       "      <th>1</th>\n",
       "      <td>Morly</td>\n",
       "      <td>Genery</td>\n",
       "      <td>Male</td>\n",
       "      <td>69</td>\n",
       "      <td>1970-03-22</td>\n",
       "      <td>Structural Engineer</td>\n",
       "      <td>Property</td>\n",
       "      <td>Mass Customer</td>\n",
       "      <td>N</td>\n",
       "      <td>No</td>\n",
       "      <td>...</td>\n",
       "      <td>NSW</td>\n",
       "      <td>Australia</td>\n",
       "      <td>11</td>\n",
       "      <td>0.90</td>\n",
       "      <td>0.9000</td>\n",
       "      <td>1.12500</td>\n",
       "      <td>0.956250</td>\n",
       "      <td>1</td>\n",
       "      <td>1</td>\n",
       "      <td>1.718750</td>\n",
       "    </tr>\n",
       "    <tr>\n",
       "      <th>2</th>\n",
       "      <td>Ardelis</td>\n",
       "      <td>Forrester</td>\n",
       "      <td>Female</td>\n",
       "      <td>10</td>\n",
       "      <td>1974-08-28 00:00:00</td>\n",
       "      <td>Senior Cost Accountant</td>\n",
       "      <td>Financial Services</td>\n",
       "      <td>Affluent Customer</td>\n",
       "      <td>N</td>\n",
       "      <td>No</td>\n",
       "      <td>...</td>\n",
       "      <td>VIC</td>\n",
       "      <td>Australia</td>\n",
       "      <td>5</td>\n",
       "      <td>0.88</td>\n",
       "      <td>0.8800</td>\n",
       "      <td>0.88000</td>\n",
       "      <td>0.880000</td>\n",
       "      <td>1</td>\n",
       "      <td>1</td>\n",
       "      <td>1.718750</td>\n",
       "    </tr>\n",
       "    <tr>\n",
       "      <th>3</th>\n",
       "      <td>Lucine</td>\n",
       "      <td>Stutt</td>\n",
       "      <td>Female</td>\n",
       "      <td>64</td>\n",
       "      <td>1979-01-28</td>\n",
       "      <td>Account Representative III</td>\n",
       "      <td>Manufacturing</td>\n",
       "      <td>Affluent Customer</td>\n",
       "      <td>N</td>\n",
       "      <td>Yes</td>\n",
       "      <td>...</td>\n",
       "      <td>QLD</td>\n",
       "      <td>Australia</td>\n",
       "      <td>1</td>\n",
       "      <td>0.67</td>\n",
       "      <td>0.8375</td>\n",
       "      <td>0.83750</td>\n",
       "      <td>0.837500</td>\n",
       "      <td>4</td>\n",
       "      <td>4</td>\n",
       "      <td>1.703125</td>\n",
       "    </tr>\n",
       "    <tr>\n",
       "      <th>4</th>\n",
       "      <td>Melinda</td>\n",
       "      <td>Hadlee</td>\n",
       "      <td>Female</td>\n",
       "      <td>34</td>\n",
       "      <td>1965-09-21</td>\n",
       "      <td>Financial Analyst</td>\n",
       "      <td>Financial Services</td>\n",
       "      <td>Affluent Customer</td>\n",
       "      <td>N</td>\n",
       "      <td>No</td>\n",
       "      <td>...</td>\n",
       "      <td>NSW</td>\n",
       "      <td>Australia</td>\n",
       "      <td>9</td>\n",
       "      <td>0.70</td>\n",
       "      <td>0.7000</td>\n",
       "      <td>0.87500</td>\n",
       "      <td>0.875000</td>\n",
       "      <td>4</td>\n",
       "      <td>4</td>\n",
       "      <td>1.703125</td>\n",
       "    </tr>\n",
       "  </tbody>\n",
       "</table>\n",
       "<p>5 rows × 23 columns</p>\n",
       "</div>"
      ],
      "text/plain": [
       "  first_name  last_name  gender  past_3_years_bike_related_purchases  \\\n",
       "0    Chickie    Brister    Male                                   86   \n",
       "1      Morly     Genery    Male                                   69   \n",
       "2    Ardelis  Forrester  Female                                   10   \n",
       "3     Lucine      Stutt  Female                                   64   \n",
       "4    Melinda     Hadlee  Female                                   34   \n",
       "\n",
       "                   DOB                   job_title job_industry_category  \\\n",
       "0           1957-07-12             General Manager         Manufacturing   \n",
       "1           1970-03-22         Structural Engineer              Property   \n",
       "2  1974-08-28 00:00:00      Senior Cost Accountant    Financial Services   \n",
       "3           1979-01-28  Account Representative III         Manufacturing   \n",
       "4           1965-09-21           Financial Analyst    Financial Services   \n",
       "\n",
       "      wealth_segment deceased_indicator owns_car  ...  state    country  \\\n",
       "0      Mass Customer                  N      Yes  ...    QLD  Australia   \n",
       "1      Mass Customer                  N       No  ...    NSW  Australia   \n",
       "2  Affluent Customer                  N       No  ...    VIC  Australia   \n",
       "3  Affluent Customer                  N      Yes  ...    QLD  Australia   \n",
       "4  Affluent Customer                  N       No  ...    NSW  Australia   \n",
       "\n",
       "   property_valuation Unnamed: 16 Unnamed: 17  Unnamed: 18  Unnamed: 19  \\\n",
       "0                   6        0.54      0.6750      0.84375     0.717187   \n",
       "1                  11        0.90      0.9000      1.12500     0.956250   \n",
       "2                   5        0.88      0.8800      0.88000     0.880000   \n",
       "3                   1        0.67      0.8375      0.83750     0.837500   \n",
       "4                   9        0.70      0.7000      0.87500     0.875000   \n",
       "\n",
       "   Unnamed: 20  Rank     Value  \n",
       "0            1     1  1.718750  \n",
       "1            1     1  1.718750  \n",
       "2            1     1  1.718750  \n",
       "3            4     4  1.703125  \n",
       "4            4     4  1.703125  \n",
       "\n",
       "[5 rows x 23 columns]"
      ]
     },
     "execution_count": 6,
     "metadata": {},
     "output_type": "execute_result"
    }
   ],
   "source": [
    "#check record for data set\n",
    "new_cust.head(5)"
   ]
  },
  {
   "cell_type": "code",
   "execution_count": 7,
   "id": "7c57a6ff",
   "metadata": {},
   "outputs": [
    {
     "name": "stdout",
     "output_type": "stream",
     "text": [
      "<class 'pandas.core.frame.DataFrame'>\n",
      "RangeIndex: 1000 entries, 0 to 999\n",
      "Data columns (total 23 columns):\n",
      " #   Column                               Non-Null Count  Dtype  \n",
      "---  ------                               --------------  -----  \n",
      " 0   first_name                           1000 non-null   object \n",
      " 1   last_name                            971 non-null    object \n",
      " 2   gender                               1000 non-null   object \n",
      " 3   past_3_years_bike_related_purchases  1000 non-null   int64  \n",
      " 4   DOB                                  983 non-null    object \n",
      " 5   job_title                            894 non-null    object \n",
      " 6   job_industry_category                835 non-null    object \n",
      " 7   wealth_segment                       1000 non-null   object \n",
      " 8   deceased_indicator                   1000 non-null   object \n",
      " 9   owns_car                             1000 non-null   object \n",
      " 10  tenure                               1000 non-null   int64  \n",
      " 11  address                              1000 non-null   object \n",
      " 12  postcode                             1000 non-null   int64  \n",
      " 13  state                                1000 non-null   object \n",
      " 14  country                              1000 non-null   object \n",
      " 15  property_valuation                   1000 non-null   int64  \n",
      " 16  Unnamed: 16                          1000 non-null   float64\n",
      " 17  Unnamed: 17                          1000 non-null   float64\n",
      " 18  Unnamed: 18                          1000 non-null   float64\n",
      " 19  Unnamed: 19                          1000 non-null   float64\n",
      " 20  Unnamed: 20                          1000 non-null   int64  \n",
      " 21  Rank                                 1000 non-null   int64  \n",
      " 22  Value                                1000 non-null   float64\n",
      "dtypes: float64(5), int64(6), object(12)\n",
      "memory usage: 179.8+ KB\n"
     ]
    }
   ],
   "source": [
    "#Data Types for new  Customer  data\n",
    "\n",
    "new_cust.info()"
   ]
  },
  {
   "cell_type": "markdown",
   "id": "d60c0f23",
   "metadata": {},
   "source": [
    "Based on the above information, we can observe that the data types of most columns are appropriate; however, the DOB column is currently in an object format and needs to be converted. Additionally, some columns contain missing values, and column like unnamed :16, unnamed: 17, unnnamed : 18, unnamed:19 , unnamed : 20 appears to be irrelevant to our analysis "
   ]
  },
  {
   "cell_type": "code",
   "execution_count": 8,
   "id": "b5c5b5ac",
   "metadata": {},
   "outputs": [
    {
     "name": "stdout",
     "output_type": "stream",
     "text": [
      "Total records (rows) in the dataset : 1000\n",
      "Total columns (features) in the dataset : 23\n"
     ]
    }
   ],
   "source": [
    "# no of rows and columns in the data set :\n",
    "print(\"Total records (rows) in the dataset : {}\".format(new_cust.shape[0]))\n",
    "print(\"Total columns (features) in the dataset : {}\".format(new_cust.shape[1]))"
   ]
  },
  {
   "cell_type": "code",
   "execution_count": 10,
   "id": "950fa0d0",
   "metadata": {},
   "outputs": [],
   "source": [
    "#Convert data types\n",
    "new_cust['DOB'] = pd.to_datetime(new_cust['DOB'], errors='coerce')"
   ]
  },
  {
   "cell_type": "markdown",
   "id": "54712fa0",
   "metadata": {},
   "source": [
    "**Numeric and Non Numeric columns**"
   ]
  },
  {
   "cell_type": "code",
   "execution_count": 11,
   "id": "0037ff6c",
   "metadata": {},
   "outputs": [
    {
     "name": "stdout",
     "output_type": "stream",
     "text": [
      "The numeric columns are :\n",
      "['past_3_years_bike_related_purchases' 'tenure' 'postcode'\n",
      " 'property_valuation' 'Unnamed: 16' 'Unnamed: 17' 'Unnamed: 18'\n",
      " 'Unnamed: 19' 'Unnamed: 20' 'Rank' 'Value']\n",
      "The non-numeric columns are :\n",
      "['first_name' 'last_name' 'gender' 'DOB' 'job_title'\n",
      " 'job_industry_category' 'wealth_segment' 'deceased_indicator' 'owns_car'\n",
      " 'address' 'state' 'country']\n"
     ]
    }
   ],
   "source": [
    "# select numeric columns\n",
    "df_numeric = new_cust.select_dtypes(include=[np.number])\n",
    "numeric_cols = df_numeric.columns.values\n",
    "print(\"The numeric columns are :\")\n",
    "print(numeric_cols)\n",
    "\n",
    "\n",
    "# select non-numeric columns\n",
    "df_non_numeric = new_cust.select_dtypes(exclude=[np.number])\n",
    "non_numeric_cols = df_non_numeric.columns.values\n",
    "print(\"The non-numeric columns are :\")\n",
    "print(non_numeric_cols)"
   ]
  },
  {
   "cell_type": "code",
   "execution_count": 12,
   "id": "2ebbab36",
   "metadata": {},
   "outputs": [],
   "source": [
    "# Drop Irrelevant columns \n",
    "\n",
    "new_cust.drop(labels=['Unnamed: 16','Unnamed: 17','Unnamed: 18','Unnamed: 19','Unnamed: 20'], axis=1 , inplace=True)"
   ]
  },
  {
   "cell_type": "code",
   "execution_count": 14,
   "id": "f52cd7ed",
   "metadata": {},
   "outputs": [
    {
     "data": {
      "text/plain": [
       "first_name                               0\n",
       "last_name                               29\n",
       "gender                                   0\n",
       "past_3_years_bike_related_purchases      0\n",
       "DOB                                     17\n",
       "job_title                              106\n",
       "job_industry_category                  165\n",
       "wealth_segment                           0\n",
       "deceased_indicator                       0\n",
       "owns_car                                 0\n",
       "tenure                                   0\n",
       "address                                  0\n",
       "postcode                                 0\n",
       "state                                    0\n",
       "country                                  0\n",
       "property_valuation                       0\n",
       "Rank                                     0\n",
       "Value                                    0\n",
       "dtype: int64"
      ]
     },
     "execution_count": 14,
     "metadata": {},
     "output_type": "execute_result"
    }
   ],
   "source": [
    "## Missing values\n",
    "\n",
    "new_cust.isna().sum()"
   ]
  },
  {
   "cell_type": "markdown",
   "id": "09151efe",
   "metadata": {},
   "source": [
    "columns like last_name,DOB,Job_title,and job_industry_category have missing values\n"
   ]
  },
  {
   "cell_type": "code",
   "execution_count": 16,
   "id": "41656ce7",
   "metadata": {},
   "outputs": [
    {
     "data": {
      "text/plain": [
       "first_name                              0.0\n",
       "last_name                               2.9\n",
       "gender                                  0.0\n",
       "past_3_years_bike_related_purchases     0.0\n",
       "DOB                                     1.7\n",
       "job_title                              10.6\n",
       "job_industry_category                  16.5\n",
       "wealth_segment                          0.0\n",
       "deceased_indicator                      0.0\n",
       "owns_car                                0.0\n",
       "tenure                                  0.0\n",
       "address                                 0.0\n",
       "postcode                                0.0\n",
       "state                                   0.0\n",
       "country                                 0.0\n",
       "property_valuation                      0.0\n",
       "Rank                                    0.0\n",
       "Value                                   0.0\n",
       "dtype: float64"
      ]
     },
     "execution_count": 16,
     "metadata": {},
     "output_type": "execute_result"
    }
   ],
   "source": [
    "round(new_cust.isnull().mean()*100,2)"
   ]
  },
  {
   "cell_type": "code",
   "execution_count": 19,
   "id": "63a8cbb9",
   "metadata": {},
   "outputs": [
    {
     "data": {
      "text/plain": [
       "0"
      ]
     },
     "execution_count": 19,
     "metadata": {},
     "output_type": "execute_result"
    }
   ],
   "source": [
    "# Last name missing value imputation \n",
    "\n",
    "new_cust[new_cust['last_name'].isnull()]['first_name'].isnull().sum()"
   ]
  },
  {
   "cell_type": "markdown",
   "id": "ef3a5e86",
   "metadata": {},
   "source": [
    "Since each individual has a first name with no missing values, it's easy to identify them. Therefore, it's acceptable to fill missing values in the last name column with \"NA\"."
   ]
  },
  {
   "cell_type": "code",
   "execution_count": 20,
   "id": "7d2a67b5",
   "metadata": {},
   "outputs": [
    {
     "name": "stdout",
     "output_type": "stream",
     "text": [
      "0\n"
     ]
    }
   ],
   "source": [
    "# replacing none for lastname\n",
    "\n",
    "new_cust['last_name'].fillna('None',axis=0, inplace=True)\n",
    "\n",
    "print(new_cust['last_name'].isnull().sum())   \n"
   ]
  },
  {
   "cell_type": "markdown",
   "id": "0cb47005",
   "metadata": {},
   "source": [
    "There is no missing value after imputation"
   ]
  },
  {
   "cell_type": "markdown",
   "id": "d4cd0664",
   "metadata": {},
   "source": [
    "**Date of Birth**"
   ]
  },
  {
   "cell_type": "code",
   "execution_count": 21,
   "id": "fab47100",
   "metadata": {},
   "outputs": [
    {
     "data": {
      "text/plain": [
       "1.7"
      ]
     },
     "execution_count": 21,
     "metadata": {},
     "output_type": "execute_result"
    }
   ],
   "source": [
    "round(new_cust[\"DOB\"].isnull().mean()*100,2)"
   ]
  },
  {
   "cell_type": "markdown",
   "id": "c528e2d9",
   "metadata": {},
   "source": [
    "Since only 2% of the dataset has missing values in the DOB column, it's reasonable to remove those rows where the date of birth is null to maintain data quality without significantly impacting the dataset size."
   ]
  },
  {
   "cell_type": "code",
   "execution_count": 22,
   "id": "3d03cfbe",
   "metadata": {},
   "outputs": [],
   "source": [
    "#remove null values form Date of birth columns\n",
    "dob_index_drop = new_cust[new_cust['DOB'].isnull()].index\n",
    "dob_index_drop\n",
    "\n",
    "new_cust.drop(index=dob_index_drop, inplace=True, axis=0)  "
   ]
  },
  {
   "cell_type": "code",
   "execution_count": 23,
   "id": "f53cf555",
   "metadata": {},
   "outputs": [
    {
     "data": {
      "text/plain": [
       "0"
      ]
     },
     "execution_count": 23,
     "metadata": {},
     "output_type": "execute_result"
    }
   ],
   "source": [
    "new_cust['DOB'].isnull().sum() "
   ]
  },
  {
   "cell_type": "markdown",
   "id": "2afe612a",
   "metadata": {},
   "source": [
    "There is no missing values after the rows removed"
   ]
  },
  {
   "cell_type": "markdown",
   "id": "c56d2bda",
   "metadata": {},
   "source": [
    "**Creating Age Column for checking further descripency in data**"
   ]
  },
  {
   "cell_type": "code",
   "execution_count": 24,
   "id": "368032f4",
   "metadata": {},
   "outputs": [],
   "source": [
    "# Function to find the age of customers as of today.\n",
    "\n",
    "def age(born):\n",
    "    today = date.today()\n",
    "    \n",
    "    return today.year - born.year - ((today.month, today.day) < (born.month, born.day))\n",
    "\n",
    "new_cust['Age'] = new_cust['DOB'].apply(age)"
   ]
  },
  {
   "cell_type": "code",
   "execution_count": 25,
   "id": "82447a18",
   "metadata": {},
   "outputs": [
    {
     "data": {
      "text/plain": [
       "count    983.000000\n",
       "mean      53.549339\n",
       "std       17.056912\n",
       "min       23.000000\n",
       "25%       41.500000\n",
       "50%       53.000000\n",
       "75%       67.000000\n",
       "max       86.000000\n",
       "Name: Age, dtype: float64"
      ]
     },
     "execution_count": 25,
     "metadata": {},
     "output_type": "execute_result"
    }
   ],
   "source": [
    "#Descriptive statistics for age\n",
    "new_cust[\"Age\"].describe()"
   ]
  },
  {
   "cell_type": "code",
   "execution_count": 26,
   "id": "ceebcac7",
   "metadata": {},
   "outputs": [
    {
     "data": {
      "text/plain": [
       "<Axes: xlabel='Age'>"
      ]
     },
     "execution_count": 26,
     "metadata": {},
     "output_type": "execute_result"
    },
    {
     "data": {
      "image/png": "[encoded data removed]",
      "text/plain": [
       "<Figure size 1500x800 with 1 Axes>"
      ]
     },
     "metadata": {},
     "output_type": "display_data"
    }
   ],
   "source": [
    "# Viz to find out the Age Distribution\n",
    "plt.figure(figsize=(15,8))\n",
    "sns.distplot(new_cust['Age'], kde=False, bins=50)"
   ]
  },
  {
   "cell_type": "markdown",
   "id": "0fdb9f86",
   "metadata": {},
   "source": [
    "Looks like age columns dosen't have any descripency in the data"
   ]
  },
  {
   "cell_type": "markdown",
   "id": "ab7a34eb",
   "metadata": {},
   "source": [
    "**Job Title**"
   ]
  },
  {
   "cell_type": "code",
   "execution_count": 27,
   "id": "0af60e41",
   "metadata": {},
   "outputs": [
    {
     "data": {
      "text/plain": [
       "10.68"
      ]
     },
     "execution_count": 27,
     "metadata": {},
     "output_type": "execute_result"
    }
   ],
   "source": [
    "round(new_cust[\"job_title\"].isnull().mean()*100,2)"
   ]
  },
  {
   "cell_type": "markdown",
   "id": "a144d99b",
   "metadata": {},
   "source": [
    "Since percentage of missing values for Job Title is 11%. We will replace null values with Missing."
   ]
  },
  {
   "cell_type": "code",
   "execution_count": 28,
   "id": "bb45032a",
   "metadata": {},
   "outputs": [],
   "source": [
    "new_cust[\"job_title\"].fillna('Missing',inplace=True,axis=0)"
   ]
  },
  {
   "cell_type": "code",
   "execution_count": 29,
   "id": "63731f77",
   "metadata": {},
   "outputs": [
    {
     "data": {
      "text/plain": [
       "0"
      ]
     },
     "execution_count": 29,
     "metadata": {},
     "output_type": "execute_result"
    }
   ],
   "source": [
    "new_cust[\"job_title\"].isna().sum()"
   ]
  },
  {
   "cell_type": "markdown",
   "id": "9cbe7325",
   "metadata": {},
   "source": [
    "Currently there is no missing values for job_title column\n"
   ]
  },
  {
   "cell_type": "markdown",
   "id": "2d0199fe",
   "metadata": {},
   "source": [
    "**Job Industry Category**"
   ]
  },
  {
   "cell_type": "code",
   "execution_count": 30,
   "id": "a22a10e5",
   "metadata": {},
   "outputs": [
    {
     "data": {
      "text/plain": [
       "16.79"
      ]
     },
     "execution_count": 30,
     "metadata": {},
     "output_type": "execute_result"
    }
   ],
   "source": [
    "round(new_cust[\"job_industry_category\"].isnull().mean()*100,2)"
   ]
  },
  {
   "cell_type": "markdown",
   "id": "63ef41b1",
   "metadata": {},
   "source": [
    "Since percentage of missing values for Job_industry_category is 17%. We will replace null values with Missing.\n"
   ]
  },
  {
   "cell_type": "code",
   "execution_count": 31,
   "id": "92acf6cc",
   "metadata": {},
   "outputs": [],
   "source": [
    "new_cust[\"job_industry_category\"].fillna(\"Missing\",inplace=True,axis=0)"
   ]
  },
  {
   "cell_type": "code",
   "execution_count": 32,
   "id": "8d5ebfd1",
   "metadata": {},
   "outputs": [
    {
     "data": {
      "text/plain": [
       "0"
      ]
     },
     "execution_count": 32,
     "metadata": {},
     "output_type": "execute_result"
    }
   ],
   "source": [
    "new_cust[\"job_industry_category\"].isna().sum()"
   ]
  },
  {
   "cell_type": "markdown",
   "id": "6bfbf457",
   "metadata": {},
   "source": [
    "Currently there is no missing values in job industry category"
   ]
  },
  {
   "cell_type": "code",
   "execution_count": 33,
   "id": "b23f4ec4",
   "metadata": {},
   "outputs": [
    {
     "data": {
      "text/plain": [
       "first_name                             0\n",
       "last_name                              0\n",
       "gender                                 0\n",
       "past_3_years_bike_related_purchases    0\n",
       "DOB                                    0\n",
       "job_title                              0\n",
       "job_industry_category                  0\n",
       "wealth_segment                         0\n",
       "deceased_indicator                     0\n",
       "owns_car                               0\n",
       "tenure                                 0\n",
       "address                                0\n",
       "postcode                               0\n",
       "state                                  0\n",
       "country                                0\n",
       "property_valuation                     0\n",
       "Rank                                   0\n",
       "Value                                  0\n",
       "Age                                    0\n",
       "dtype: int64"
      ]
     },
     "execution_count": 33,
     "metadata": {},
     "output_type": "execute_result"
    }
   ],
   "source": [
    "new_cust.isna().sum()"
   ]
  },
  {
   "cell_type": "markdown",
   "id": "41b0d0d7",
   "metadata": {},
   "source": [
    "There is no missing values in the data set "
   ]
  },
  {
   "cell_type": "code",
   "execution_count": 34,
   "id": "7e3a3828",
   "metadata": {},
   "outputs": [
    {
     "name": "stdout",
     "output_type": "stream",
     "text": [
      "Total records after removing Missing Values: 983\n"
     ]
    }
   ],
   "source": [
    "print(\"Total records after removing Missing Values: {}\".format(new_cust.shape[0]))"
   ]
  },
  {
   "cell_type": "markdown",
   "id": "a32aecb6",
   "metadata": {},
   "source": [
    "**Inconsistency Check in Data**\n",
    "\n",
    "We will check whether there is inconsistent data / typo error data is present in the categorical columns.\n",
    "The columns to be checked are 'gender', 'wealth_segment' ,'deceased_indicator', 'owns_car"
   ]
  },
  {
   "cell_type": "code",
   "execution_count": 35,
   "id": "ea909cf3",
   "metadata": {},
   "outputs": [
    {
     "data": {
      "text/plain": [
       "gender\n",
       "Female    513\n",
       "Male      470\n",
       "Name: count, dtype: int64"
      ]
     },
     "execution_count": 35,
     "metadata": {},
     "output_type": "execute_result"
    }
   ],
   "source": [
    "#Gender\n",
    "\n",
    "new_cust[\"gender\"].value_counts()"
   ]
  },
  {
   "cell_type": "markdown",
   "id": "8e358095",
   "metadata": {},
   "source": [
    "There is no inconsistent data in gender columns"
   ]
  },
  {
   "cell_type": "code",
   "execution_count": 36,
   "id": "9def4ccb",
   "metadata": {},
   "outputs": [
    {
     "data": {
      "text/plain": [
       "wealth_segment\n",
       "Mass Customer        499\n",
       "High Net Worth       249\n",
       "Affluent Customer    235\n",
       "Name: count, dtype: int64"
      ]
     },
     "execution_count": 36,
     "metadata": {},
     "output_type": "execute_result"
    }
   ],
   "source": [
    "#Wealth segment \n",
    "\n",
    "new_cust[\"wealth_segment\"].value_counts()"
   ]
  },
  {
   "cell_type": "markdown",
   "id": "46baed56",
   "metadata": {},
   "source": [
    "There is no inconsistent data in wealth segment columns\n"
   ]
  },
  {
   "cell_type": "code",
   "execution_count": 37,
   "id": "2baadee8",
   "metadata": {},
   "outputs": [
    {
     "data": {
      "text/plain": [
       "deceased_indicator\n",
       "N    983\n",
       "Name: count, dtype: int64"
      ]
     },
     "execution_count": 37,
     "metadata": {},
     "output_type": "execute_result"
    }
   ],
   "source": [
    "# deceased_indicator\n",
    "\n",
    "new_cust['deceased_indicator'].value_counts()"
   ]
  },
  {
   "cell_type": "markdown",
   "id": "0a38ed41",
   "metadata": {},
   "source": [
    "There is no inconsistent data in  deceased_indicator columns\n"
   ]
  },
  {
   "cell_type": "code",
   "execution_count": 39,
   "id": "63a5d69a",
   "metadata": {},
   "outputs": [
    {
     "data": {
      "text/plain": [
       "owns_car\n",
       "No     497\n",
       "Yes    486\n",
       "Name: count, dtype: int64"
      ]
     },
     "execution_count": 39,
     "metadata": {},
     "output_type": "execute_result"
    }
   ],
   "source": [
    "# Owns a Car\n",
    "\n",
    "new_cust[\"owns_car\"].value_counts()"
   ]
  },
  {
   "cell_type": "markdown",
   "id": "fb711938",
   "metadata": {},
   "source": [
    "There is no inconsistent data in owns_car columns"
   ]
  },
  {
   "cell_type": "code",
   "execution_count": 40,
   "id": "b5101e12",
   "metadata": {},
   "outputs": [
    {
     "data": {
      "text/plain": [
       "state\n",
       "NSW    499\n",
       "VIC    258\n",
       "QLD    226\n",
       "Name: count, dtype: int64"
      ]
     },
     "execution_count": 40,
     "metadata": {},
     "output_type": "execute_result"
    }
   ],
   "source": [
    "#state\n",
    "new_cust[\"state\"].value_counts()\n",
    " "
   ]
  },
  {
   "cell_type": "markdown",
   "id": "72c6f15b",
   "metadata": {},
   "source": [
    "There is no inconsistent data in state columns\n"
   ]
  },
  {
   "cell_type": "code",
   "execution_count": 41,
   "id": "02985b5f",
   "metadata": {},
   "outputs": [
    {
     "data": {
      "text/plain": [
       "country\n",
       "Australia    983\n",
       "Name: count, dtype: int64"
      ]
     },
     "execution_count": 41,
     "metadata": {},
     "output_type": "execute_result"
    }
   ],
   "source": [
    "#country\n",
    "new_cust[\"country\"].value_counts()"
   ]
  },
  {
   "cell_type": "markdown",
   "id": "dd0d15d2",
   "metadata": {},
   "source": [
    "There is no inconsistent data in country columns"
   ]
  },
  {
   "cell_type": "code",
   "execution_count": 42,
   "id": "0ae87073",
   "metadata": {},
   "outputs": [
    {
     "data": {
      "text/html": [
       "<div>\n",
       "<style scoped>\n",
       "    .dataframe tbody tr th:only-of-type {\n",
       "        vertical-align: middle;\n",
       "    }\n",
       "\n",
       "    .dataframe tbody tr th {\n",
       "        vertical-align: top;\n",
       "    }\n",
       "\n",
       "    .dataframe thead th {\n",
       "        text-align: right;\n",
       "    }\n",
       "</style>\n",
       "<table border=\"1\" class=\"dataframe\">\n",
       "  <thead>\n",
       "    <tr style=\"text-align: right;\">\n",
       "      <th></th>\n",
       "      <th>postcode</th>\n",
       "      <th>state</th>\n",
       "    </tr>\n",
       "  </thead>\n",
       "  <tbody>\n",
       "    <tr>\n",
       "      <th>164</th>\n",
       "      <td>2073</td>\n",
       "      <td>NSW</td>\n",
       "    </tr>\n",
       "    <tr>\n",
       "      <th>202</th>\n",
       "      <td>2300</td>\n",
       "      <td>NSW</td>\n",
       "    </tr>\n",
       "    <tr>\n",
       "      <th>616</th>\n",
       "      <td>2049</td>\n",
       "      <td>NSW</td>\n",
       "    </tr>\n",
       "    <tr>\n",
       "      <th>204</th>\n",
       "      <td>2429</td>\n",
       "      <td>NSW</td>\n",
       "    </tr>\n",
       "    <tr>\n",
       "      <th>615</th>\n",
       "      <td>2070</td>\n",
       "      <td>NSW</td>\n",
       "    </tr>\n",
       "    <tr>\n",
       "      <th>...</th>\n",
       "      <td>...</td>\n",
       "      <td>...</td>\n",
       "    </tr>\n",
       "    <tr>\n",
       "      <th>234</th>\n",
       "      <td>3429</td>\n",
       "      <td>VIC</td>\n",
       "    </tr>\n",
       "    <tr>\n",
       "      <th>589</th>\n",
       "      <td>3037</td>\n",
       "      <td>VIC</td>\n",
       "    </tr>\n",
       "    <tr>\n",
       "      <th>604</th>\n",
       "      <td>3129</td>\n",
       "      <td>VIC</td>\n",
       "    </tr>\n",
       "    <tr>\n",
       "      <th>245</th>\n",
       "      <td>3134</td>\n",
       "      <td>VIC</td>\n",
       "    </tr>\n",
       "    <tr>\n",
       "      <th>341</th>\n",
       "      <td>3163</td>\n",
       "      <td>VIC</td>\n",
       "    </tr>\n",
       "  </tbody>\n",
       "</table>\n",
       "<p>515 rows × 2 columns</p>\n",
       "</div>"
      ],
      "text/plain": [
       "     postcode state\n",
       "164      2073   NSW\n",
       "202      2300   NSW\n",
       "616      2049   NSW\n",
       "204      2429   NSW\n",
       "615      2070   NSW\n",
       "..        ...   ...\n",
       "234      3429   VIC\n",
       "589      3037   VIC\n",
       "604      3129   VIC\n",
       "245      3134   VIC\n",
       "341      3163   VIC\n",
       "\n",
       "[515 rows x 2 columns]"
      ]
     },
     "execution_count": 42,
     "metadata": {},
     "output_type": "execute_result"
    }
   ],
   "source": [
    "#postcode\n",
    "\n",
    "new_cust[['postcode', 'state']].drop_duplicates().sort_values('state')"
   ]
  },
  {
   "cell_type": "markdown",
   "id": "b1f56a69",
   "metadata": {},
   "source": [
    "There is no inconsistent data in postcode columns\n"
   ]
  },
  {
   "cell_type": "code",
   "execution_count": 43,
   "id": "5967a591",
   "metadata": {},
   "outputs": [
    {
     "data": {
      "text/html": [
       "<div>\n",
       "<style scoped>\n",
       "    .dataframe tbody tr th:only-of-type {\n",
       "        vertical-align: middle;\n",
       "    }\n",
       "\n",
       "    .dataframe tbody tr th {\n",
       "        vertical-align: top;\n",
       "    }\n",
       "\n",
       "    .dataframe thead th {\n",
       "        text-align: right;\n",
       "    }\n",
       "</style>\n",
       "<table border=\"1\" class=\"dataframe\">\n",
       "  <thead>\n",
       "    <tr style=\"text-align: right;\">\n",
       "      <th></th>\n",
       "      <th>address</th>\n",
       "      <th>postcode</th>\n",
       "      <th>state</th>\n",
       "      <th>country</th>\n",
       "    </tr>\n",
       "  </thead>\n",
       "  <tbody>\n",
       "    <tr>\n",
       "      <th>721</th>\n",
       "      <td>0 Bay Drive</td>\n",
       "      <td>2750</td>\n",
       "      <td>NSW</td>\n",
       "      <td>Australia</td>\n",
       "    </tr>\n",
       "    <tr>\n",
       "      <th>138</th>\n",
       "      <td>0 Dexter Parkway</td>\n",
       "      <td>2380</td>\n",
       "      <td>NSW</td>\n",
       "      <td>Australia</td>\n",
       "    </tr>\n",
       "    <tr>\n",
       "      <th>624</th>\n",
       "      <td>0 Emmet Trail</td>\n",
       "      <td>4128</td>\n",
       "      <td>QLD</td>\n",
       "      <td>Australia</td>\n",
       "    </tr>\n",
       "    <tr>\n",
       "      <th>300</th>\n",
       "      <td>0 Esker Avenue</td>\n",
       "      <td>4019</td>\n",
       "      <td>QLD</td>\n",
       "      <td>Australia</td>\n",
       "    </tr>\n",
       "    <tr>\n",
       "      <th>685</th>\n",
       "      <td>0 Express Lane</td>\n",
       "      <td>2142</td>\n",
       "      <td>NSW</td>\n",
       "      <td>Australia</td>\n",
       "    </tr>\n",
       "    <tr>\n",
       "      <th>...</th>\n",
       "      <td>...</td>\n",
       "      <td>...</td>\n",
       "      <td>...</td>\n",
       "      <td>...</td>\n",
       "    </tr>\n",
       "    <tr>\n",
       "      <th>308</th>\n",
       "      <td>99 Westend Court</td>\n",
       "      <td>2287</td>\n",
       "      <td>NSW</td>\n",
       "      <td>Australia</td>\n",
       "    </tr>\n",
       "    <tr>\n",
       "      <th>336</th>\n",
       "      <td>990 Hoffman Avenue</td>\n",
       "      <td>3029</td>\n",
       "      <td>VIC</td>\n",
       "      <td>Australia</td>\n",
       "    </tr>\n",
       "    <tr>\n",
       "      <th>796</th>\n",
       "      <td>99376 Namekagon Street</td>\n",
       "      <td>3101</td>\n",
       "      <td>VIC</td>\n",
       "      <td>Australia</td>\n",
       "    </tr>\n",
       "    <tr>\n",
       "      <th>583</th>\n",
       "      <td>9940 Manley Drive</td>\n",
       "      <td>2574</td>\n",
       "      <td>NSW</td>\n",
       "      <td>Australia</td>\n",
       "    </tr>\n",
       "    <tr>\n",
       "      <th>50</th>\n",
       "      <td>998 Gale Park</td>\n",
       "      <td>3174</td>\n",
       "      <td>VIC</td>\n",
       "      <td>Australia</td>\n",
       "    </tr>\n",
       "  </tbody>\n",
       "</table>\n",
       "<p>983 rows × 4 columns</p>\n",
       "</div>"
      ],
      "text/plain": [
       "                    address  postcode state    country\n",
       "721             0 Bay Drive      2750   NSW  Australia\n",
       "138        0 Dexter Parkway      2380   NSW  Australia\n",
       "624           0 Emmet Trail      4128   QLD  Australia\n",
       "300          0 Esker Avenue      4019   QLD  Australia\n",
       "685          0 Express Lane      2142   NSW  Australia\n",
       "..                      ...       ...   ...        ...\n",
       "308        99 Westend Court      2287   NSW  Australia\n",
       "336      990 Hoffman Avenue      3029   VIC  Australia\n",
       "796  99376 Namekagon Street      3101   VIC  Australia\n",
       "583       9940 Manley Drive      2574   NSW  Australia\n",
       "50            998 Gale Park      3174   VIC  Australia\n",
       "\n",
       "[983 rows x 4 columns]"
      ]
     },
     "execution_count": 43,
     "metadata": {},
     "output_type": "execute_result"
    }
   ],
   "source": [
    "#Address\n",
    "\n",
    "new_cust[['address', 'postcode','state','country']].sort_values('address')"
   ]
  },
  {
   "cell_type": "markdown",
   "id": "e35109d9",
   "metadata": {},
   "source": [
    "There is no inconsistent data in postcode columns"
   ]
  },
  {
   "cell_type": "code",
   "execution_count": 44,
   "id": "52279ed5",
   "metadata": {},
   "outputs": [
    {
     "data": {
      "text/plain": [
       "count    983.000000\n",
       "mean      11.459817\n",
       "std        5.006123\n",
       "min        1.000000\n",
       "25%        8.000000\n",
       "50%       11.000000\n",
       "75%       15.000000\n",
       "max       22.000000\n",
       "Name: tenure, dtype: float64"
      ]
     },
     "execution_count": 44,
     "metadata": {},
     "output_type": "execute_result"
    }
   ],
   "source": [
    "#Tenure\n",
    "\n",
    "new_cust[\"tenure\"].describe()"
   ]
  },
  {
   "cell_type": "code",
   "execution_count": 45,
   "id": "e2b13ec2",
   "metadata": {},
   "outputs": [
    {
     "data": {
      "text/plain": [
       "<Axes: xlabel='tenure', ylabel='Density'>"
      ]
     },
     "execution_count": 45,
     "metadata": {},
     "output_type": "execute_result"
    },
    {
     "data": {
      "image/png": "[encoded data removed]",
      "text/plain": [
       "<Figure size 1500x800 with 1 Axes>"
      ]
     },
     "metadata": {},
     "output_type": "display_data"
    }
   ],
   "source": [
    "# Distributon of tenure\n",
    "\n",
    "plt.figure(figsize=(15,8))\n",
    "sns.distplot(new_cust['tenure'])"
   ]
  },
  {
   "cell_type": "markdown",
   "id": "5015ae9b",
   "metadata": {},
   "source": [
    "The distirbution of tenure looks normal distribution and there is no outliers "
   ]
  },
  {
   "cell_type": "markdown",
   "id": "9cb29bb5",
   "metadata": {},
   "source": [
    "**Check for duplicate values**"
   ]
  },
  {
   "cell_type": "markdown",
   "id": "d77a0f99",
   "metadata": {},
   "source": [
    "We need to ensure that there is no duplication of records in the dataset. This may lead to error in data analysis due to poor data quality. If there are duplicate rows of data then we need to drop such records.\n"
   ]
  },
  {
   "cell_type": "code",
   "execution_count": 46,
   "id": "88e7a354",
   "metadata": {},
   "outputs": [
    {
     "data": {
      "text/html": [
       "<div>\n",
       "<style scoped>\n",
       "    .dataframe tbody tr th:only-of-type {\n",
       "        vertical-align: middle;\n",
       "    }\n",
       "\n",
       "    .dataframe tbody tr th {\n",
       "        vertical-align: top;\n",
       "    }\n",
       "\n",
       "    .dataframe thead th {\n",
       "        text-align: right;\n",
       "    }\n",
       "</style>\n",
       "<table border=\"1\" class=\"dataframe\">\n",
       "  <thead>\n",
       "    <tr style=\"text-align: right;\">\n",
       "      <th></th>\n",
       "      <th>first_name</th>\n",
       "      <th>last_name</th>\n",
       "      <th>gender</th>\n",
       "      <th>past_3_years_bike_related_purchases</th>\n",
       "      <th>DOB</th>\n",
       "      <th>job_title</th>\n",
       "      <th>job_industry_category</th>\n",
       "      <th>wealth_segment</th>\n",
       "      <th>deceased_indicator</th>\n",
       "      <th>owns_car</th>\n",
       "      <th>tenure</th>\n",
       "      <th>address</th>\n",
       "      <th>postcode</th>\n",
       "      <th>state</th>\n",
       "      <th>country</th>\n",
       "      <th>property_valuation</th>\n",
       "      <th>Rank</th>\n",
       "      <th>Value</th>\n",
       "      <th>Age</th>\n",
       "    </tr>\n",
       "  </thead>\n",
       "  <tbody>\n",
       "  </tbody>\n",
       "</table>\n",
       "</div>"
      ],
      "text/plain": [
       "Empty DataFrame\n",
       "Columns: [first_name, last_name, gender, past_3_years_bike_related_purchases, DOB, job_title, job_industry_category, wealth_segment, deceased_indicator, owns_car, tenure, address, postcode, state, country, property_valuation, Rank, Value, Age]\n",
       "Index: []"
      ]
     },
     "execution_count": 46,
     "metadata": {},
     "output_type": "execute_result"
    }
   ],
   "source": [
    "#Return boolean series of duplicate values \n",
    "duplicates=new_cust.duplicated()\n",
    "\n",
    "\n",
    "#display duplicates rows\n",
    "new_cust[duplicates]"
   ]
  },
  {
   "cell_type": "markdown",
   "id": "b31a04bf",
   "metadata": {},
   "source": [
    "There is no duplicate records in this data set"
   ]
  },
  {
   "cell_type": "markdown",
   "id": "c6647a1f",
   "metadata": {},
   "source": [
    "**Exporting the Cleaned New Customer Data Set to csv**\n",
    "\n",
    "Currently the  New Customer  dataset is clean. Hence we can export the data to a csv to continue our data analysis of Customer Segments by joining it to other tables.\n"
   ]
  },
  {
   "cell_type": "code",
   "execution_count": 47,
   "id": "c31a2931",
   "metadata": {},
   "outputs": [],
   "source": [
    "new_cust.to_csv('NewCustomerList_Cleaned.csv', index=False)"
   ]
  },
  {
   "cell_type": "code",
   "execution_count": null,
   "id": "fc83d4ad",
   "metadata": {},
   "outputs": [],
   "source": []
  }
 ],
 "metadata": {
  "kernelspec": {
   "display_name": "Python 3 (ipykernel)",
   "language": "python",
   "name": "python3"
  },
  "language_info": {
   "codemirror_mode": {
    "name": "ipython",
    "version": 3
   },
   "file_extension": ".py",
   "mimetype": "text/x-python",
   "name": "python",
   "nbconvert_exporter": "python",
   "pygments_lexer": "ipython3",
   "version": "3.11.5"
  },
  "toc": {
   "base_numbering": 1,
   "nav_menu": {},
   "number_sections": true,
   "sideBar": true,
   "skip_h1_title": false,
   "title_cell": "Table of Contents",
   "title_sidebar": "Contents",
   "toc_cell": false,
   "toc_position": {},
   "toc_section_display": true,
   "toc_window_display": false
  },
  "varInspector": {
   "cols": {
    "lenName": 16,
    "lenType": 16,
    "lenVar": 40
   },
   "kernels_config": {
    "python": {
     "delete_cmd_postfix": "",
     "delete_cmd_prefix": "del ",
     "library": "var_list.py",
     "varRefreshCmd": "print(var_dic_list())"
    },
    "r": {
     "delete_cmd_postfix": ") ",
     "delete_cmd_prefix": "rm(",
     "library": "var_list.r",
     "varRefreshCmd": "cat(var_dic_list()) "
    }
   },
   "types_to_exclude": [
    "module",
    "function",
    "builtin_function_or_method",
    "instance",
    "_Feature"
   ],
   "window_display": false
  }
 },
 "nbformat": 4,
 "nbformat_minor": 5
}
