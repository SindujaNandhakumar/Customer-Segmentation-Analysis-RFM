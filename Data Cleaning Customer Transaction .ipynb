{
 "cells": [
  {
   "cell_type": "markdown",
   "id": "633f7243",
   "metadata": {},
   "source": [
    "**Data Cleaning Transaction**"
   ]
  },
  {
   "cell_type": "code",
   "execution_count": 8,
   "id": "6f82e412",
   "metadata": {},
   "outputs": [],
   "source": [
    "import pandas as pd\n",
    "import numpy as np\n",
    "import matplotlib.pyplot as plt\n",
    "import seaborn as sns\n",
    "%matplotlib inline\n",
    "\n",
    "from datetime import datetime, date\n",
    "plt.style.use('ggplot')"
   ]
  },
  {
   "cell_type": "code",
   "execution_count": 9,
   "id": "5343522a",
   "metadata": {},
   "outputs": [
    {
     "data": {
      "text/html": [
       "<div>\n",
       "<style scoped>\n",
       "    .dataframe tbody tr th:only-of-type {\n",
       "        vertical-align: middle;\n",
       "    }\n",
       "\n",
       "    .dataframe tbody tr th {\n",
       "        vertical-align: top;\n",
       "    }\n",
       "\n",
       "    .dataframe thead th {\n",
       "        text-align: right;\n",
       "    }\n",
       "</style>\n",
       "<table border=\"1\" class=\"dataframe\">\n",
       "  <thead>\n",
       "    <tr style=\"text-align: right;\">\n",
       "      <th></th>\n",
       "      <th>transaction_id</th>\n",
       "      <th>product_id</th>\n",
       "      <th>customer_id</th>\n",
       "      <th>transaction_date</th>\n",
       "      <th>online_order</th>\n",
       "      <th>order_status</th>\n",
       "      <th>brand</th>\n",
       "      <th>product_line</th>\n",
       "      <th>product_class</th>\n",
       "      <th>product_size</th>\n",
       "      <th>list_price</th>\n",
       "      <th>standard_cost</th>\n",
       "      <th>product_first_sold_date</th>\n",
       "    </tr>\n",
       "  </thead>\n",
       "  <tbody>\n",
       "    <tr>\n",
       "      <th>0</th>\n",
       "      <td>1</td>\n",
       "      <td>2</td>\n",
       "      <td>2950</td>\n",
       "      <td>2017-02-25</td>\n",
       "      <td>0.0</td>\n",
       "      <td>Approved</td>\n",
       "      <td>Solex</td>\n",
       "      <td>Standard</td>\n",
       "      <td>medium</td>\n",
       "      <td>medium</td>\n",
       "      <td>71.49</td>\n",
       "      <td>53.62</td>\n",
       "      <td>41245.0</td>\n",
       "    </tr>\n",
       "    <tr>\n",
       "      <th>1</th>\n",
       "      <td>2</td>\n",
       "      <td>3</td>\n",
       "      <td>3120</td>\n",
       "      <td>2017-05-21</td>\n",
       "      <td>1.0</td>\n",
       "      <td>Approved</td>\n",
       "      <td>Trek Bicycles</td>\n",
       "      <td>Standard</td>\n",
       "      <td>medium</td>\n",
       "      <td>large</td>\n",
       "      <td>2091.47</td>\n",
       "      <td>388.92</td>\n",
       "      <td>41701.0</td>\n",
       "    </tr>\n",
       "    <tr>\n",
       "      <th>2</th>\n",
       "      <td>3</td>\n",
       "      <td>37</td>\n",
       "      <td>402</td>\n",
       "      <td>2017-10-16</td>\n",
       "      <td>0.0</td>\n",
       "      <td>Approved</td>\n",
       "      <td>OHM Cycles</td>\n",
       "      <td>Standard</td>\n",
       "      <td>low</td>\n",
       "      <td>medium</td>\n",
       "      <td>1793.43</td>\n",
       "      <td>248.82</td>\n",
       "      <td>36361.0</td>\n",
       "    </tr>\n",
       "    <tr>\n",
       "      <th>3</th>\n",
       "      <td>4</td>\n",
       "      <td>88</td>\n",
       "      <td>3135</td>\n",
       "      <td>2017-08-31</td>\n",
       "      <td>0.0</td>\n",
       "      <td>Approved</td>\n",
       "      <td>Norco Bicycles</td>\n",
       "      <td>Standard</td>\n",
       "      <td>medium</td>\n",
       "      <td>medium</td>\n",
       "      <td>1198.46</td>\n",
       "      <td>381.10</td>\n",
       "      <td>36145.0</td>\n",
       "    </tr>\n",
       "    <tr>\n",
       "      <th>4</th>\n",
       "      <td>5</td>\n",
       "      <td>78</td>\n",
       "      <td>787</td>\n",
       "      <td>2017-10-01</td>\n",
       "      <td>1.0</td>\n",
       "      <td>Approved</td>\n",
       "      <td>Giant Bicycles</td>\n",
       "      <td>Standard</td>\n",
       "      <td>medium</td>\n",
       "      <td>large</td>\n",
       "      <td>1765.30</td>\n",
       "      <td>709.48</td>\n",
       "      <td>42226.0</td>\n",
       "    </tr>\n",
       "  </tbody>\n",
       "</table>\n",
       "</div>"
      ],
      "text/plain": [
       "   transaction_id  product_id  customer_id transaction_date  online_order  \\\n",
       "0               1           2         2950       2017-02-25           0.0   \n",
       "1               2           3         3120       2017-05-21           1.0   \n",
       "2               3          37          402       2017-10-16           0.0   \n",
       "3               4          88         3135       2017-08-31           0.0   \n",
       "4               5          78          787       2017-10-01           1.0   \n",
       "\n",
       "  order_status           brand product_line product_class product_size  \\\n",
       "0     Approved           Solex     Standard        medium       medium   \n",
       "1     Approved   Trek Bicycles     Standard        medium        large   \n",
       "2     Approved      OHM Cycles     Standard           low       medium   \n",
       "3     Approved  Norco Bicycles     Standard        medium       medium   \n",
       "4     Approved  Giant Bicycles     Standard        medium        large   \n",
       "\n",
       "   list_price  standard_cost  product_first_sold_date  \n",
       "0       71.49          53.62                  41245.0  \n",
       "1     2091.47         388.92                  41701.0  \n",
       "2     1793.43         248.82                  36361.0  \n",
       "3     1198.46         381.10                  36145.0  \n",
       "4     1765.30         709.48                  42226.0  "
      ]
     },
     "execution_count": 9,
     "metadata": {},
     "output_type": "execute_result"
    }
   ],
   "source": [
    "# Loading customer demographic data  sheet from raw excel file\n",
    "cust_trans= pd.read_excel('Raw_data.xlsx',sheet_name=\"Transactions\")\n",
    "\n",
    "cust_trans.head(5)\n"
   ]
  },
  {
   "cell_type": "code",
   "execution_count": 10,
   "id": "98288eee",
   "metadata": {},
   "outputs": [
    {
     "name": "stdout",
     "output_type": "stream",
     "text": [
      "<class 'pandas.core.frame.DataFrame'>\n",
      "RangeIndex: 20000 entries, 0 to 19999\n",
      "Data columns (total 13 columns):\n",
      " #   Column                   Non-Null Count  Dtype         \n",
      "---  ------                   --------------  -----         \n",
      " 0   transaction_id           20000 non-null  int64         \n",
      " 1   product_id               20000 non-null  int64         \n",
      " 2   customer_id              20000 non-null  int64         \n",
      " 3   transaction_date         20000 non-null  datetime64[ns]\n",
      " 4   online_order             19640 non-null  float64       \n",
      " 5   order_status             20000 non-null  object        \n",
      " 6   brand                    19803 non-null  object        \n",
      " 7   product_line             19803 non-null  object        \n",
      " 8   product_class            19803 non-null  object        \n",
      " 9   product_size             19803 non-null  object        \n",
      " 10  list_price               20000 non-null  float64       \n",
      " 11  standard_cost            19803 non-null  float64       \n",
      " 12  product_first_sold_date  19803 non-null  float64       \n",
      "dtypes: datetime64[ns](1), float64(4), int64(3), object(5)\n",
      "memory usage: 2.0+ MB\n"
     ]
    }
   ],
   "source": [
    "# Information of columns and data-types of Transactions Data.\n",
    "\n",
    "cust_trans.info()"
   ]
  },
  {
   "cell_type": "markdown",
   "id": "ed63b7dd",
   "metadata": {},
   "source": [
    "The datatype of product_first_sold_date column is not in datetime format. The data type of this column must be changed from int64 to datetime format."
   ]
  },
  {
   "cell_type": "code",
   "execution_count": 11,
   "id": "370ed653",
   "metadata": {},
   "outputs": [
    {
     "name": "stdout",
     "output_type": "stream",
     "text": [
      "Total records in the dataset : 20000\n",
      "Total columns in the dataset : 13\n"
     ]
    }
   ],
   "source": [
    "#Total  Records\n",
    "\n",
    "print(\"Total records in the dataset : {}\".format(cust_trans.shape[0]))\n",
    "print(\"Total columns in the dataset : {}\".format(cust_trans.shape[1]))\n"
   ]
  },
  {
   "cell_type": "code",
   "execution_count": 12,
   "id": "b71a4c10",
   "metadata": {},
   "outputs": [],
   "source": [
    "#Convert data types\n",
    "cust_trans['product_first_sold_date'] = pd.to_datetime(cust_trans['product_first_sold_date'], errors='coerce')"
   ]
  },
  {
   "cell_type": "code",
   "execution_count": 13,
   "id": "cc617dd2",
   "metadata": {},
   "outputs": [
    {
     "name": "stdout",
     "output_type": "stream",
     "text": [
      "The numeric columns are :\n",
      "['transaction_id' 'product_id' 'customer_id' 'online_order' 'list_price'\n",
      " 'standard_cost']\n",
      "The non-numeric columns are :\n",
      "['transaction_date' 'order_status' 'brand' 'product_line' 'product_class'\n",
      " 'product_size' 'product_first_sold_date']\n"
     ]
    }
   ],
   "source": [
    "# Numeric columns and Non Numeric columns\n",
    "\n",
    "# select numeric columns\n",
    "df_numeric = cust_trans.select_dtypes(include=[np.number])\n",
    "numeric_cols = df_numeric.columns.values\n",
    "print(\"The numeric columns are :\")\n",
    "print(numeric_cols)\n",
    "\n",
    "\n",
    "# select non-numeric columns\n",
    "df_non_numeric = cust_trans.select_dtypes(exclude=[np.number])\n",
    "non_numeric_cols = df_non_numeric.columns.values\n",
    "print(\"The non-numeric columns are :\")\n",
    "print(non_numeric_cols)"
   ]
  },
  {
   "cell_type": "markdown",
   "id": "a2d4341a",
   "metadata": {},
   "source": [
    "**Missing Value check**"
   ]
  },
  {
   "cell_type": "code",
   "execution_count": 14,
   "id": "20ecf761",
   "metadata": {},
   "outputs": [
    {
     "data": {
      "text/plain": [
       "transaction_id               0\n",
       "product_id                   0\n",
       "customer_id                  0\n",
       "transaction_date             0\n",
       "online_order               360\n",
       "order_status                 0\n",
       "brand                      197\n",
       "product_line               197\n",
       "product_class              197\n",
       "product_size               197\n",
       "list_price                   0\n",
       "standard_cost              197\n",
       "product_first_sold_date    197\n",
       "dtype: int64"
      ]
     },
     "execution_count": 14,
     "metadata": {},
     "output_type": "execute_result"
    }
   ],
   "source": [
    "cust_trans.isnull().sum()"
   ]
  },
  {
   "cell_type": "markdown",
   "id": "11fcbde9",
   "metadata": {},
   "source": [
    "We could see there are columns like online_order,brand,product_line,product_size,product_class,standard_cost and product_first_sold_date \n",
    "is missing "
   ]
  },
  {
   "cell_type": "code",
   "execution_count": 18,
   "id": "3b2328f0",
   "metadata": {},
   "outputs": [
    {
     "data": {
      "text/plain": [
       "1.8"
      ]
     },
     "execution_count": 18,
     "metadata": {},
     "output_type": "execute_result"
    }
   ],
   "source": [
    "#Online order \n",
    "\n",
    "round(cust_trans[\"online_order\"].isnull().mean()*100,2)"
   ]
  },
  {
   "cell_type": "markdown",
   "id": "a48bd02d",
   "metadata": {},
   "source": [
    "The onilne order have 1.8% of missing value we can replace this categorical column using mode calculation"
   ]
  },
  {
   "cell_type": "code",
   "execution_count": 22,
   "id": "58c68b73",
   "metadata": {},
   "outputs": [
    {
     "data": {
      "text/plain": [
       "0    1.0\n",
       "Name: online_order, dtype: float64"
      ]
     },
     "execution_count": 22,
     "metadata": {},
     "output_type": "execute_result"
    }
   ],
   "source": [
    "#Finding most frequently occured values\n",
    "\n",
    "most_freq_online_order=cust_trans[\"online_order\"].mode()\n",
    "\n",
    "most_freq_online_order"
   ]
  },
  {
   "cell_type": "markdown",
   "id": "be028498",
   "metadata": {},
   "source": [
    "The most frequent online order value is 1 we can use this to replace null values \n"
   ]
  },
  {
   "cell_type": "code",
   "execution_count": 23,
   "id": "46887508",
   "metadata": {},
   "outputs": [],
   "source": [
    "#replace null values using 1 \n",
    "\n",
    "cust_trans[\"online_order\"].fillna(1,inplace=True)"
   ]
  },
  {
   "cell_type": "code",
   "execution_count": 24,
   "id": "d791106c",
   "metadata": {},
   "outputs": [
    {
     "data": {
      "text/plain": [
       "0"
      ]
     },
     "execution_count": 24,
     "metadata": {},
     "output_type": "execute_result"
    }
   ],
   "source": [
    "cust_trans[\"online_order\"].isnull().sum()"
   ]
  },
  {
   "cell_type": "markdown",
   "id": "b2984b9d",
   "metadata": {},
   "source": [
    "There is no null values in online order "
   ]
  },
  {
   "cell_type": "markdown",
   "id": "c0391626",
   "metadata": {},
   "source": [
    "**Brand, product_line, product_class, product_size, standard_cost, product_first_sold_date missing value analysis**"
   ]
  },
  {
   "cell_type": "code",
   "execution_count": 28,
   "id": "a95063af",
   "metadata": {},
   "outputs": [
    {
     "data": {
      "text/plain": [
       "transaction_id             0.0\n",
       "product_id                 0.0\n",
       "customer_id                0.0\n",
       "transaction_date           0.0\n",
       "online_order               0.0\n",
       "order_status               0.0\n",
       "brand                      1.0\n",
       "product_line               1.0\n",
       "product_class              1.0\n",
       "product_size               1.0\n",
       "list_price                 0.0\n",
       "standard_cost              1.0\n",
       "product_first_sold_date    1.0\n",
       "dtype: float64"
      ]
     },
     "execution_count": 28,
     "metadata": {},
     "output_type": "execute_result"
    }
   ],
   "source": [
    "round(cust_trans.isnull().mean()*100,1)"
   ]
  },
  {
   "cell_type": "markdown",
   "id": "ab16c579",
   "metadata": {},
   "source": [
    "From the above context every column has missing value of only 1% of data "
   ]
  },
  {
   "cell_type": "code",
   "execution_count": 29,
   "id": "5100829f",
   "metadata": {},
   "outputs": [
    {
     "data": {
      "text/html": [
       "<div>\n",
       "<style scoped>\n",
       "    .dataframe tbody tr th:only-of-type {\n",
       "        vertical-align: middle;\n",
       "    }\n",
       "\n",
       "    .dataframe tbody tr th {\n",
       "        vertical-align: top;\n",
       "    }\n",
       "\n",
       "    .dataframe thead th {\n",
       "        text-align: right;\n",
       "    }\n",
       "</style>\n",
       "<table border=\"1\" class=\"dataframe\">\n",
       "  <thead>\n",
       "    <tr style=\"text-align: right;\">\n",
       "      <th></th>\n",
       "      <th>brand</th>\n",
       "      <th>product_line</th>\n",
       "      <th>product_class</th>\n",
       "      <th>product_size</th>\n",
       "      <th>standard_cost</th>\n",
       "      <th>product_first_sold_date</th>\n",
       "    </tr>\n",
       "  </thead>\n",
       "  <tbody>\n",
       "    <tr>\n",
       "      <th>136</th>\n",
       "      <td>NaN</td>\n",
       "      <td>NaN</td>\n",
       "      <td>NaN</td>\n",
       "      <td>NaN</td>\n",
       "      <td>NaN</td>\n",
       "      <td>NaT</td>\n",
       "    </tr>\n",
       "    <tr>\n",
       "      <th>159</th>\n",
       "      <td>NaN</td>\n",
       "      <td>NaN</td>\n",
       "      <td>NaN</td>\n",
       "      <td>NaN</td>\n",
       "      <td>NaN</td>\n",
       "      <td>NaT</td>\n",
       "    </tr>\n",
       "    <tr>\n",
       "      <th>366</th>\n",
       "      <td>NaN</td>\n",
       "      <td>NaN</td>\n",
       "      <td>NaN</td>\n",
       "      <td>NaN</td>\n",
       "      <td>NaN</td>\n",
       "      <td>NaT</td>\n",
       "    </tr>\n",
       "    <tr>\n",
       "      <th>406</th>\n",
       "      <td>NaN</td>\n",
       "      <td>NaN</td>\n",
       "      <td>NaN</td>\n",
       "      <td>NaN</td>\n",
       "      <td>NaN</td>\n",
       "      <td>NaT</td>\n",
       "    </tr>\n",
       "    <tr>\n",
       "      <th>676</th>\n",
       "      <td>NaN</td>\n",
       "      <td>NaN</td>\n",
       "      <td>NaN</td>\n",
       "      <td>NaN</td>\n",
       "      <td>NaN</td>\n",
       "      <td>NaT</td>\n",
       "    </tr>\n",
       "    <tr>\n",
       "      <th>...</th>\n",
       "      <td>...</td>\n",
       "      <td>...</td>\n",
       "      <td>...</td>\n",
       "      <td>...</td>\n",
       "      <td>...</td>\n",
       "      <td>...</td>\n",
       "    </tr>\n",
       "    <tr>\n",
       "      <th>19340</th>\n",
       "      <td>NaN</td>\n",
       "      <td>NaN</td>\n",
       "      <td>NaN</td>\n",
       "      <td>NaN</td>\n",
       "      <td>NaN</td>\n",
       "      <td>NaT</td>\n",
       "    </tr>\n",
       "    <tr>\n",
       "      <th>19383</th>\n",
       "      <td>NaN</td>\n",
       "      <td>NaN</td>\n",
       "      <td>NaN</td>\n",
       "      <td>NaN</td>\n",
       "      <td>NaN</td>\n",
       "      <td>NaT</td>\n",
       "    </tr>\n",
       "    <tr>\n",
       "      <th>19793</th>\n",
       "      <td>NaN</td>\n",
       "      <td>NaN</td>\n",
       "      <td>NaN</td>\n",
       "      <td>NaN</td>\n",
       "      <td>NaN</td>\n",
       "      <td>NaT</td>\n",
       "    </tr>\n",
       "    <tr>\n",
       "      <th>19859</th>\n",
       "      <td>NaN</td>\n",
       "      <td>NaN</td>\n",
       "      <td>NaN</td>\n",
       "      <td>NaN</td>\n",
       "      <td>NaN</td>\n",
       "      <td>NaT</td>\n",
       "    </tr>\n",
       "    <tr>\n",
       "      <th>19871</th>\n",
       "      <td>NaN</td>\n",
       "      <td>NaN</td>\n",
       "      <td>NaN</td>\n",
       "      <td>NaN</td>\n",
       "      <td>NaN</td>\n",
       "      <td>NaT</td>\n",
       "    </tr>\n",
       "  </tbody>\n",
       "</table>\n",
       "<p>197 rows × 6 columns</p>\n",
       "</div>"
      ],
      "text/plain": [
       "      brand product_line product_class product_size  standard_cost  \\\n",
       "136     NaN          NaN           NaN          NaN            NaN   \n",
       "159     NaN          NaN           NaN          NaN            NaN   \n",
       "366     NaN          NaN           NaN          NaN            NaN   \n",
       "406     NaN          NaN           NaN          NaN            NaN   \n",
       "676     NaN          NaN           NaN          NaN            NaN   \n",
       "...     ...          ...           ...          ...            ...   \n",
       "19340   NaN          NaN           NaN          NaN            NaN   \n",
       "19383   NaN          NaN           NaN          NaN            NaN   \n",
       "19793   NaN          NaN           NaN          NaN            NaN   \n",
       "19859   NaN          NaN           NaN          NaN            NaN   \n",
       "19871   NaN          NaN           NaN          NaN            NaN   \n",
       "\n",
       "      product_first_sold_date  \n",
       "136                       NaT  \n",
       "159                       NaT  \n",
       "366                       NaT  \n",
       "406                       NaT  \n",
       "676                       NaT  \n",
       "...                       ...  \n",
       "19340                     NaT  \n",
       "19383                     NaT  \n",
       "19793                     NaT  \n",
       "19859                     NaT  \n",
       "19871                     NaT  \n",
       "\n",
       "[197 rows x 6 columns]"
      ]
     },
     "execution_count": 29,
     "metadata": {},
     "output_type": "execute_result"
    }
   ],
   "source": [
    "\n",
    "cust_trans[cust_trans[\"brand\"].isnull()][[\"brand\",\"product_line\",\"product_class\",\"product_size\",\"standard_cost\",\"product_first_sold_date\"]]\n",
    "\n"
   ]
  },
  {
   "cell_type": "markdown",
   "id": "d7edd47c",
   "metadata": {},
   "source": [
    "And from the above data,if the column brand is null then every column related to brand like product_line ,product_class,product_size,standard_cost,\tproduct_first_sold_date is null.\n",
    "Its better to drop these column for our analysis "
   ]
  },
  {
   "cell_type": "code",
   "execution_count": 30,
   "id": "c48ab501",
   "metadata": {},
   "outputs": [
    {
     "data": {
      "text/plain": [
       "197"
      ]
     },
     "execution_count": 30,
     "metadata": {},
     "output_type": "execute_result"
    }
   ],
   "source": [
    "#no of rows for null values\n",
    "cust_trans[cust_trans[\"brand\"].isnull()][[\"brand\",\"product_line\",\"product_class\",\"product_size\",\"standard_cost\",\"product_first_sold_date\"]].shape[0]\n"
   ]
  },
  {
   "cell_type": "code",
   "execution_count": 32,
   "id": "7db8b8ee",
   "metadata": {},
   "outputs": [
    {
     "data": {
      "text/plain": [
       "Index([  136,   159,   366,   406,   676,   780,  1003,  1130,  1196,  1282,\n",
       "       ...\n",
       "       19045, 19132, 19176, 19196, 19205, 19340, 19383, 19793, 19859, 19871],\n",
       "      dtype='int64', length=197)"
      ]
     },
     "execution_count": 32,
     "metadata": {},
     "output_type": "execute_result"
    }
   ],
   "source": [
    "# record to drop values\n",
    "\n",
    "drop_values=cust_trans[cust_trans[\"brand\"].isnull()][[\"brand\",\"product_line\",\"product_class\",\"product_size\",\"standard_cost\",\"product_first_sold_date\"]].index\n",
    "\n",
    "drop_values\n"
   ]
  },
  {
   "cell_type": "code",
   "execution_count": 33,
   "id": "9f4124ac",
   "metadata": {},
   "outputs": [],
   "source": [
    "#drop values \n",
    "cust_trans.drop(index=drop_values,inplace=True,axis=0)"
   ]
  },
  {
   "cell_type": "code",
   "execution_count": 34,
   "id": "364c86a1",
   "metadata": {},
   "outputs": [
    {
     "data": {
      "text/plain": [
       "transaction_id             0\n",
       "product_id                 0\n",
       "customer_id                0\n",
       "transaction_date           0\n",
       "online_order               0\n",
       "order_status               0\n",
       "brand                      0\n",
       "product_line               0\n",
       "product_class              0\n",
       "product_size               0\n",
       "list_price                 0\n",
       "standard_cost              0\n",
       "product_first_sold_date    0\n",
       "dtype: int64"
      ]
     },
     "execution_count": 34,
     "metadata": {},
     "output_type": "execute_result"
    }
   ],
   "source": [
    "cust_trans.isnull().sum()"
   ]
  },
  {
   "cell_type": "markdown",
   "id": "eb6c1058",
   "metadata": {},
   "source": [
    "Removed all null values in customer transaction data "
   ]
  },
  {
   "cell_type": "code",
   "execution_count": 35,
   "id": "321a8a2d",
   "metadata": {},
   "outputs": [
    {
     "name": "stdout",
     "output_type": "stream",
     "text": [
      "Total records after removing Missing Values: 19803\n"
     ]
    }
   ],
   "source": [
    "#Records after removing missing values\n",
    "\n",
    "print(\"Total records after removing Missing Values: {}\".format(cust_trans.shape[0]))"
   ]
  },
  {
   "cell_type": "markdown",
   "id": "989e8223",
   "metadata": {},
   "source": [
    "**Check Inconsistency in Data**\n"
   ]
  },
  {
   "cell_type": "markdown",
   "id": "d67ad69b",
   "metadata": {},
   "source": [
    "We will check whether there is inconsistent data / typo error data is present in the categorical columns.\n",
    "The columns to be checked are 'online_order', 'order_status' ,'product_line', 'product_class' , 'product_class' and 'brand'"
   ]
  },
  {
   "cell_type": "code",
   "execution_count": 36,
   "id": "a9abf784",
   "metadata": {},
   "outputs": [
    {
     "data": {
      "text/plain": [
       "online_order\n",
       "1.0    10097\n",
       "0.0     9706\n",
       "Name: count, dtype: int64"
      ]
     },
     "execution_count": 36,
     "metadata": {},
     "output_type": "execute_result"
    }
   ],
   "source": [
    "#Online order\n",
    "\n",
    "cust_trans[\"online_order\"].value_counts()"
   ]
  },
  {
   "cell_type": "markdown",
   "id": "8c9e9629",
   "metadata": {},
   "source": [
    "There is no inconsistent in online_order columns\n"
   ]
  },
  {
   "cell_type": "code",
   "execution_count": 37,
   "id": "721e3568",
   "metadata": {},
   "outputs": [
    {
     "data": {
      "text/plain": [
       "order_status\n",
       "Approved     19625\n",
       "Cancelled      178\n",
       "Name: count, dtype: int64"
      ]
     },
     "execution_count": 37,
     "metadata": {},
     "output_type": "execute_result"
    }
   ],
   "source": [
    "#order_status\n",
    "\n",
    "cust_trans[\"order_status\"].value_counts()"
   ]
  },
  {
   "cell_type": "markdown",
   "id": "4f8018e3",
   "metadata": {},
   "source": [
    "There is no inconsistent in order_status column"
   ]
  },
  {
   "cell_type": "code",
   "execution_count": 38,
   "id": "c6298f47",
   "metadata": {},
   "outputs": [
    {
     "data": {
      "text/plain": [
       "product_line\n",
       "Standard    14176\n",
       "Road         3970\n",
       "Touring      1234\n",
       "Mountain      423\n",
       "Name: count, dtype: int64"
      ]
     },
     "execution_count": 38,
     "metadata": {},
     "output_type": "execute_result"
    }
   ],
   "source": [
    "#product_line\n",
    "cust_trans[\"product_line\"].value_counts()"
   ]
  },
  {
   "cell_type": "markdown",
   "id": "56763068",
   "metadata": {},
   "source": [
    "There is no inconsistent in product_line column\n"
   ]
  },
  {
   "cell_type": "code",
   "execution_count": 39,
   "id": "f8365945",
   "metadata": {},
   "outputs": [
    {
     "data": {
      "text/plain": [
       "product_class\n",
       "medium    13826\n",
       "high       3013\n",
       "low        2964\n",
       "Name: count, dtype: int64"
      ]
     },
     "execution_count": 39,
     "metadata": {},
     "output_type": "execute_result"
    }
   ],
   "source": [
    "#product_class\n",
    "cust_trans[\"product_class\"].value_counts()\n"
   ]
  },
  {
   "cell_type": "markdown",
   "id": "0ce2992b",
   "metadata": {},
   "source": [
    "There is no inconsistent in product_Class columns "
   ]
  },
  {
   "cell_type": "code",
   "execution_count": 40,
   "id": "55b8d8f0",
   "metadata": {},
   "outputs": [
    {
     "data": {
      "text/plain": [
       "brand\n",
       "Solex             4253\n",
       "Giant Bicycles    3312\n",
       "WeareA2B          3295\n",
       "OHM Cycles        3043\n",
       "Trek Bicycles     2990\n",
       "Norco Bicycles    2910\n",
       "Name: count, dtype: int64"
      ]
     },
     "execution_count": 40,
     "metadata": {},
     "output_type": "execute_result"
    }
   ],
   "source": [
    "#brand\n",
    "\n",
    "cust_trans[\"brand\"].value_counts()"
   ]
  },
  {
   "cell_type": "markdown",
   "id": "980f40f9",
   "metadata": {},
   "source": [
    "There is no inconsistent in brand columns"
   ]
  },
  {
   "cell_type": "markdown",
   "id": "a8e32992",
   "metadata": {},
   "source": [
    "**Duplication Check**"
   ]
  },
  {
   "cell_type": "code",
   "execution_count": 41,
   "id": "714d03de",
   "metadata": {},
   "outputs": [
    {
     "data": {
      "text/html": [
       "<div>\n",
       "<style scoped>\n",
       "    .dataframe tbody tr th:only-of-type {\n",
       "        vertical-align: middle;\n",
       "    }\n",
       "\n",
       "    .dataframe tbody tr th {\n",
       "        vertical-align: top;\n",
       "    }\n",
       "\n",
       "    .dataframe thead th {\n",
       "        text-align: right;\n",
       "    }\n",
       "</style>\n",
       "<table border=\"1\" class=\"dataframe\">\n",
       "  <thead>\n",
       "    <tr style=\"text-align: right;\">\n",
       "      <th></th>\n",
       "      <th>transaction_id</th>\n",
       "      <th>product_id</th>\n",
       "      <th>customer_id</th>\n",
       "      <th>transaction_date</th>\n",
       "      <th>online_order</th>\n",
       "      <th>order_status</th>\n",
       "      <th>brand</th>\n",
       "      <th>product_line</th>\n",
       "      <th>product_class</th>\n",
       "      <th>product_size</th>\n",
       "      <th>list_price</th>\n",
       "      <th>standard_cost</th>\n",
       "      <th>product_first_sold_date</th>\n",
       "    </tr>\n",
       "  </thead>\n",
       "  <tbody>\n",
       "  </tbody>\n",
       "</table>\n",
       "</div>"
      ],
      "text/plain": [
       "Empty DataFrame\n",
       "Columns: [transaction_id, product_id, customer_id, transaction_date, online_order, order_status, brand, product_line, product_class, product_size, list_price, standard_cost, product_first_sold_date]\n",
       "Index: []"
      ]
     },
     "execution_count": 41,
     "metadata": {},
     "output_type": "execute_result"
    }
   ],
   "source": [
    "#Return boolean series of duplicate values \n",
    "duplicates=cust_trans.duplicated()\n",
    "\n",
    "\n",
    "#display duplicates rows\n",
    "cust_trans[duplicates]"
   ]
  },
  {
   "cell_type": "markdown",
   "id": "d9c59ba7",
   "metadata": {},
   "source": [
    "Above there is no record of duplicate values."
   ]
  },
  {
   "cell_type": "markdown",
   "id": "4be8662c",
   "metadata": {},
   "source": [
    "**Creating a new feature**"
   ]
  },
  {
   "cell_type": "markdown",
   "id": "0215be8f",
   "metadata": {},
   "source": [
    "Profit column is the difference between list price and standard price"
   ]
  },
  {
   "cell_type": "code",
   "execution_count": 42,
   "id": "544ad3af",
   "metadata": {},
   "outputs": [],
   "source": [
    "#profit column\n",
    "\n",
    "cust_trans[\"profit\"]=cust_trans[\"list_price\"]-cust_trans[\"standard_cost\"]"
   ]
  },
  {
   "cell_type": "code",
   "execution_count": 43,
   "id": "b2453320",
   "metadata": {},
   "outputs": [
    {
     "data": {
      "text/plain": [
       "0          17.87\n",
       "1        1702.55\n",
       "2        1544.61\n",
       "3         817.36\n",
       "4        1055.82\n",
       "          ...   \n",
       "19995     802.26\n",
       "19996     104.24\n",
       "19997    1592.19\n",
       "19998      91.15\n",
       "19999     195.34\n",
       "Name: profit, Length: 19803, dtype: float64"
      ]
     },
     "execution_count": 43,
     "metadata": {},
     "output_type": "execute_result"
    }
   ],
   "source": [
    "cust_trans[\"profit\"]"
   ]
  },
  {
   "cell_type": "code",
   "execution_count": 45,
   "id": "2a1ed035",
   "metadata": {},
   "outputs": [
    {
     "name": "stderr",
     "output_type": "stream",
     "text": [
      "C:\\Users\\jkart\\AppData\\Local\\Temp\\ipykernel_30756\\3369678776.py:4: UserWarning: \n",
      "\n",
      "`distplot` is a deprecated function and will be removed in seaborn v0.14.0.\n",
      "\n",
      "Please adapt your code to use either `displot` (a figure-level function with\n",
      "similar flexibility) or `histplot` (an axes-level function for histograms).\n",
      "\n",
      "For a guide to updating your code to use the new functions, please see\n",
      "https://gist.github.com/mwaskom/de44147ed2974457ad6372750bbe5751\n",
      "\n",
      "  sns.distplot(cust_trans['profit'])\n",
      "C:\\Users\\jkart\\anaconda3\\Lib\\site-packages\\seaborn\\_oldcore.py:1498: FutureWarning: is_categorical_dtype is deprecated and will be removed in a future version. Use isinstance(dtype, CategoricalDtype) instead\n",
      "  if pd.api.types.is_categorical_dtype(vector):\n",
      "C:\\Users\\jkart\\anaconda3\\Lib\\site-packages\\seaborn\\_oldcore.py:1119: FutureWarning: use_inf_as_na option is deprecated and will be removed in a future version. Convert inf values to NaN before operating instead.\n",
      "  with pd.option_context('mode.use_inf_as_na', True):\n"
     ]
    },
    {
     "data": {
      "text/plain": [
       "<Axes: xlabel='profit', ylabel='Density'>"
      ]
     },
     "execution_count": 45,
     "metadata": {},
     "output_type": "execute_result"
    },
    {
     "data": {
      "image/png": "[encoded data removed]",
      "text/plain": [
       "<Figure size 2000x800 with 1 Axes>"
      ]
     },
     "metadata": {},
     "output_type": "display_data"
    }
   ],
   "source": [
    "# Dystribution of the Profit Column\n",
    "\n",
    "plt.figure(figsize=(20,8))\n",
    "sns.distplot(cust_trans['profit'])"
   ]
  },
  {
   "cell_type": "markdown",
   "id": "38318477",
   "metadata": {},
   "source": [
    "**Exporting cleaned Transaction data to csv file**"
   ]
  },
  {
   "cell_type": "code",
   "execution_count": 46,
   "id": "b17967ae",
   "metadata": {},
   "outputs": [],
   "source": [
    "cust_trans.to_csv('Transaction_Cleaned.csv', index=False)"
   ]
  },
  {
   "cell_type": "code",
   "execution_count": null,
   "id": "2b0081b7",
   "metadata": {},
   "outputs": [],
   "source": []
  }
 ],
 "metadata": {
  "kernelspec": {
   "display_name": "Python 3 (ipykernel)",
   "language": "python",
   "name": "python3"
  },
  "language_info": {
   "codemirror_mode": {
    "name": "ipython",
    "version": 3
   },
   "file_extension": ".py",
   "mimetype": "text/x-python",
   "name": "python",
   "nbconvert_exporter": "python",
   "pygments_lexer": "ipython3",
   "version": "3.11.5"
  },
  "toc": {
   "base_numbering": 1,
   "nav_menu": {},
   "number_sections": true,
   "sideBar": true,
   "skip_h1_title": false,
   "title_cell": "Table of Contents",
   "title_sidebar": "Contents",
   "toc_cell": false,
   "toc_position": {},
   "toc_section_display": true,
   "toc_window_display": false
  },
  "varInspector": {
   "cols": {
    "lenName": 16,
    "lenType": 16,
    "lenVar": 40
   },
   "kernels_config": {
    "python": {
     "delete_cmd_postfix": "",
     "delete_cmd_prefix": "del ",
     "library": "var_list.py",
     "varRefreshCmd": "print(var_dic_list())"
    },
    "r": {
     "delete_cmd_postfix": ") ",
     "delete_cmd_prefix": "rm(",
     "library": "var_list.r",
     "varRefreshCmd": "cat(var_dic_list()) "
    }
   },
   "types_to_exclude": [
    "module",
    "function",
    "builtin_function_or_method",
    "instance",
    "_Feature"
   ],
   "window_display": false
  }
 },
 "nbformat": 4,
 "nbformat_minor": 5
}
